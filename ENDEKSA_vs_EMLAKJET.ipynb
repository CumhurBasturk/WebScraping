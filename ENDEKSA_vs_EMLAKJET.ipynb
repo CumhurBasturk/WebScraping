{
 "cells": [
  {
   "cell_type": "code",
   "execution_count": null,
   "metadata": {},
   "outputs": [],
   "source": [
    "import numpy as np\n",
    "import pandas as pd\n",
    "from matplotlib import pyplot as plt\n",
    "%matplotlib inline\n",
    "\n",
    "import math\n",
    "import datetime\n",
    "import time\n",
    "\n",
    "import requests\n",
    "import json\n",
    "from addict import Dict\n",
    "import jmespath\n",
    "import numpy as np\n",
    "import pandas as pd\n",
    "import time\n",
    "pd.set_option('display.max_rows', 500)\n",
    "pd.set_option('display.max_columns', 500)"
   ]
  },
  {
   "cell_type": "code",
   "execution_count": null,
   "metadata": {},
   "outputs": [],
   "source": [
    "def do_request(func,**kwargs):\n",
    "    response= func(**kwargs)\n",
    "    if response.status_code==200:\n",
    "        return response\n",
    "    elif response.status_code==429:\n",
    "        wait_after_seconds=int(response.headers[\"Retry-After\"])\n",
    "        print(f\"429 Error\\tWaiting seconds: {wait_after_seconds+1}\")\n",
    "        time.sleep(wait_after_seconds+1)\n",
    "        return do_request(func,**kwargs)\n",
    "    else:\n",
    "        raise ValueError(f\"{response.status_code}\\t{response.text}\")"
   ]
  },
  {
   "cell_type": "code",
   "execution_count": null,
   "metadata": {},
   "outputs": [],
   "source": [
    "il_kodlari=[i for i in range(1,82)]\n",
    "def get_ilceler(il_kodu):\n",
    "    url = f\"https://api.emlakjet.com/geolocation/location/{il_kodu}?fields=name,parentId,center,slug&includeChildren=true&includeRelated=false\"\n",
    "\n",
    "    payload = {}\n",
    "    headers = {\n",
    "      'authority': 'api.emlakjet.com',\n",
    "      'pragma': 'no-cache',\n",
    "      'cache-control': 'no-cache',\n",
    "      'accept': 'application/json, text/plain, */*',\n",
    "      'user-agent': 'Mozilla/5.0 (X11; Linux x86_64) AppleWebKit/537.36 (KHTML, like Gecko) Chrome/86.0.4240.111 Safari/537.36',\n",
    "      'dnt': '1',\n",
    "      'origin': 'https://www.emlakjet.com',\n",
    "      'sec-fetch-site': 'same-site',\n",
    "      'sec-fetch-mode': 'cors',\n",
    "      'sec-fetch-dest': 'empty',\n",
    "      'referer': 'https://www.emlakjet.com/satilik-konut/istanbul/',\n",
    "      'accept-language': 'en,tr-TR;q=0.9,tr;q=0.8'\n",
    "    }\n",
    "\n",
    "    response = do_request(requests.request,method=\"GET\",url=url, headers=headers, data = payload)\n",
    "    return Dict(json.loads(response.text))"
   ]
  },
  {
   "cell_type": "code",
   "execution_count": null,
   "metadata": {},
   "outputs": [],
   "source": [
    "res=[]\n",
    "for il_kodu in il_kodlari:\n",
    "    item=get_ilceler(il_kodu)\n",
    "    for temp in item.data.children:\n",
    "        temp['il_adi']=item.data.name\n",
    "        res.append(temp)"
   ]
  },
  {
   "cell_type": "code",
   "execution_count": null,
   "metadata": {},
   "outputs": [],
   "source": [
    "ilce_location_df=pd.DataFrame.from_records(res)[['parentId','il_adi', 'id','name','center','slug']]\n",
    "ilce_location_df.columns=['endeksa_il','emlakjet_il_ad','endeksa_ilce','emlakjet_ilce_ad','latlot','slug']\n",
    "ilce_location_df.sort_values(by=['endeksa_il', 'endeksa_ilce'], inplace=True)\n",
    "ilce_location_df.reset_index(inplace=True)\n",
    "ilce_location_df.drop('index', axis=1,inplace= True)\n",
    "#ilce_location_df.to_csv('/data/sipai/Cumhur/il_ilce_kod.csv', sep= '~', encoding= 'ISO-8859-9')"
   ]
  },
  {
   "cell_type": "code",
   "execution_count": null,
   "metadata": {},
   "outputs": [],
   "source": [
    "def get_il_demography(CityId):\n",
    "    if not isinstance(CityId,str):\n",
    "        CityId=str(CityId)\n",
    "    url = \"https://app.endeksa.com/demography\"\n",
    "\n",
    "    payload = \"{\\\"Level\\\":1,\\\"CityId\\\":\"+CityId+\"}\"\n",
    "    headers = {\n",
    "      'authority': 'app.endeksa.com',\n",
    "      'pragma': 'no-cache',\n",
    "      'cache-control': 'no-cache',\n",
    "      'accept': 'application/json, text/plain, */*',\n",
    "      'dnt': '1',\n",
    "      'accept-language': 'tr',\n",
    "      'user-agent': '4fe54daf-c9bd-441f-8e98-24e9d480dc33',\n",
    "      'content-type': 'application/json;charset=UTF-8',\n",
    "      'origin': 'https://www.endeksa.com',\n",
    "      'referer': 'https://www.endeksa.com/',\n",
    "    }\n",
    "\n",
    "    response = do_request(requests.request,method=\"POST\",url = url, headers=headers, data = payload)\n",
    "    return Dict(json.loads(response.text))"
   ]
  },
  {
   "cell_type": "code",
   "execution_count": null,
   "metadata": {},
   "outputs": [],
   "source": [
    "endeksa_il_ilce = pd.DataFrame()\n",
    "for i in range(1,82):\n",
    "    il_ilce_ = pd.DataFrame(sorted([(d_['CityId'], d_['CountyId']) for d_ in get_il_demography(i)['SubRegionals']]))\n",
    "    il_ilce_.columns= ['endeksa_il', 'endeksa_ilce']\n",
    "    endeksa_il_ilce= pd.concat((endeksa_il_ilce, il_ilce_))"
   ]
  },
  {
   "cell_type": "code",
   "execution_count": 1,
   "metadata": {},
   "outputs": [],
   "source": [
    "# Burada amaç ENDEKSA ile EMLAKJETten gelen IL-ILCE kodu bilgilerini birleştirmek, neden birleştiriyoruz? Çünkü EMLAKJET verisinde SLUG ve LATLOG bilgisi var ve IL-AD ILCE-AD degerleri daha düzgün"
   ]
  },
  {
   "cell_type": "code",
   "execution_count": null,
   "metadata": {},
   "outputs": [],
   "source": [
    "\"\"\"Aşağıdaki donusum de gerekli \n",
    "emlakjet_ilce_kod degeri modifiye edilmesi gerekiyor.\n",
    "        case \n",
    "           when p.emlakjet_ilce_kod = 2109 then 2105  --Artvin Kemalpaşa\n",
    "           when p.emlakjet_ilce_kod = 2093 then 2076  --Aydın Efeler\n",
    "           when p.emlakjet_ilce_kod = 2090 then 2078  --Balıkesir Karesi\n",
    "           when p.emlakjet_ilce_kod = 2091 then 2077  --Balıkesir Altıeylül\n",
    "           when p.emlakjet_ilce_kod = 2092 then 2079  --Denizli Merkezefendi\n",
    "           when p.emlakjet_ilce_kod = 2108 then 2090  --Muğla Seydikemer\n",
    "           when p.emlakjet_ilce_kod = 2104 then 2095  --Tekirdağ Kapaklı \n",
    "           when p.emlakjet_ilce_kod = 2105 then 2096  --Tekirdağ Süleymanpaşa\n",
    "           when p.emlakjet_ilce_kod = 2095 then 2091  --Şanlıurfa Eyyübiye\n",
    "           when p.emlakjet_ilce_kod = 2096 then 2092  --Şanlıurfa Haliliye\n",
    "           when p.emlakjet_ilce_kod = 2106 then 2093  --Şanlıurfa Karaköprü\n",
    "           when p.emlakjet_ilce_kod = 2110 then 2106  --Aksaray Sultanhanı\n",
    "           else p.emlakjet_ilce_kod\n",
    "        end \"\"\"\n",
    "        "
   ]
  }
 ],
 "metadata": {
  "kernelspec": {
   "display_name": "Python 3",
   "language": "python",
   "name": "python3"
  },
  "language_info": {
   "codemirror_mode": {
    "name": "ipython",
    "version": 3
   },
   "file_extension": ".py",
   "mimetype": "text/x-python",
   "name": "python",
   "nbconvert_exporter": "python",
   "pygments_lexer": "ipython3",
   "version": "3.7.9"
  }
 },
 "nbformat": 4,
 "nbformat_minor": 4
}
